{
 "cells": [
  {
   "cell_type": "code",
   "execution_count": 8,
   "metadata": {},
   "outputs": [],
   "source": [
    "import pandas as pd\n",
    "import numpy as np"
   ]
  },
  {
   "cell_type": "code",
   "execution_count": 9,
   "metadata": {},
   "outputs": [
    {
     "name": "stdout",
     "output_type": "stream",
     "text": [
      "                                user_id utm_source           day  \\\n",
      "0  008b7c6c-7272-471e-b90e-930d548bd8d7     google  6 - Saturday   \n",
      "1  009abb94-5e14-4b6c-bb1c-4f4df7aa7557   facebook    7 - Sunday   \n",
      "2  00f5d532-ed58-4570-b6d2-768df5f41aed    twitter   2 - Tuesday   \n",
      "3  011adc64-0f44-4fd9-a0bb-f1506d2ad439     google   2 - Tuesday   \n",
      "4  012137e6-7ae7-4649-af68-205b4702169c   facebook    7 - Sunday   \n",
      "\n",
      "  ad_click_timestamp experimental_group  \n",
      "0               7:18                  A  \n",
      "1                NaN                  B  \n",
      "2                NaN                  A  \n",
      "3                NaN                  B  \n",
      "4                NaN                  B  \n"
     ]
    }
   ],
   "source": [
    "ad_clicks = pd.read_csv('ad_clicks.csv')\n",
    "print(ad_clicks.head())"
   ]
  },
  {
   "cell_type": "code",
   "execution_count": 14,
   "metadata": {},
   "outputs": [
    {
     "name": "stdout",
     "output_type": "stream",
     "text": [
      "  utm_source  user_id\n",
      "0      email      255\n",
      "1   facebook      504\n",
      "2     google      680\n",
      "3    twitter      215\n"
     ]
    }
   ],
   "source": [
    "most_views_utm_source = ad_clicks.groupby(['utm_source']).user_id.count().reset_index()\n",
    "print(most_views_utm_source)"
   ]
  },
  {
   "cell_type": "code",
   "execution_count": 11,
   "metadata": {},
   "outputs": [
    {
     "name": "stdout",
     "output_type": "stream",
     "text": [
      "                                user_id utm_source           day  \\\n",
      "0  008b7c6c-7272-471e-b90e-930d548bd8d7     google  6 - Saturday   \n",
      "1  009abb94-5e14-4b6c-bb1c-4f4df7aa7557   facebook    7 - Sunday   \n",
      "2  00f5d532-ed58-4570-b6d2-768df5f41aed    twitter   2 - Tuesday   \n",
      "3  011adc64-0f44-4fd9-a0bb-f1506d2ad439     google   2 - Tuesday   \n",
      "4  012137e6-7ae7-4649-af68-205b4702169c   facebook    7 - Sunday   \n",
      "\n",
      "  ad_click_timestamp experimental_group  is_click  \n",
      "0               7:18                  A      True  \n",
      "1                NaN                  B     False  \n",
      "2                NaN                  A     False  \n",
      "3                NaN                  B     False  \n",
      "4                NaN                  B     False  \n"
     ]
    }
   ],
   "source": [
    "ad_clicks['is_click'] = ~ad_clicks.ad_click_timestamp.isnull()\n",
    "print(ad_clicks.head())\n",
    "\n",
    "# new_two_column = ad_clicks[['user_id', 'utm_source']]\n",
    "# print(new_two_column)"
   ]
  },
  {
   "cell_type": "code",
   "execution_count": 12,
   "metadata": {},
   "outputs": [
    {
     "name": "stdout",
     "output_type": "stream",
     "text": [
      "  utm_source  is_click  user_id\n",
      "0      email     False      175\n",
      "1      email      True       80\n",
      "2   facebook     False      324\n",
      "3   facebook      True      180\n",
      "4     google     False      441\n",
      "5     google      True      239\n",
      "6    twitter     False      149\n",
      "7    twitter      True       66\n"
     ]
    }
   ],
   "source": [
    "clicks_by_source = ad_clicks.groupby(['utm_source', 'is_click']).user_id.count().reset_index()\n",
    "print(clicks_by_source)"
   ]
  },
  {
   "cell_type": "code",
   "execution_count": 13,
   "metadata": {},
   "outputs": [
    {
     "name": "stdout",
     "output_type": "stream",
     "text": [
      "is_click utm_source  False  True\n",
      "0             email    175    80\n",
      "1          facebook    324   180\n",
      "2            google    441   239\n",
      "3           twitter    149    66\n"
     ]
    }
   ],
   "source": [
    "clicks_pivot = clicks_by_source.pivot(\n",
    "  columns='is_click',\n",
    "  index='utm_source',\n",
    "  values='user_id',\n",
    ").reset_index()\n",
    "print(clicks_pivot)"
   ]
  },
  {
   "cell_type": "code",
   "execution_count": 15,
   "metadata": {},
   "outputs": [
    {
     "name": "stdout",
     "output_type": "stream",
     "text": [
      "  experimental_group  user_id\n",
      "0                  A      827\n",
      "1                  B      827\n"
     ]
    }
   ],
   "source": [
    "quantity_experimental_group = ad_clicks.groupby(['experimental_group']).user_id.count().reset_index()\n",
    "print(quantity_experimental_group)"
   ]
  },
  {
   "cell_type": "code",
   "execution_count": 17,
   "metadata": {},
   "outputs": [
    {
     "name": "stdout",
     "output_type": "stream",
     "text": [
      "  experimental_group  is_click  user_id\n",
      "0                  A     False      517\n",
      "1                  A      True      310\n",
      "2                  B     False      572\n",
      "3                  B      True      255\n"
     ]
    }
   ],
   "source": [
    "percentage_clicked = ad_clicks.groupby(['experimental_group', 'is_click']).user_id.count().reset_index()\n",
    "print(percentage_clicked)"
   ]
  },
  {
   "cell_type": "code",
   "execution_count": 18,
   "metadata": {},
   "outputs": [
    {
     "name": "stdout",
     "output_type": "stream",
     "text": [
      "is_click experimental_group  False  True\n",
      "0                         A    517   310\n",
      "1                         B    572   255\n"
     ]
    }
   ],
   "source": [
    "pivot_percentage_clicked = percentage_clicked.pivot(\n",
    "    columns='is_click',\n",
    "    index='experimental_group',\n",
    "    values='user_id'\n",
    "    \n",
    ").reset_index()\n",
    "print(pivot_percentage_clicked)"
   ]
  },
  {
   "cell_type": "code",
   "execution_count": 72,
   "metadata": {},
   "outputs": [
    {
     "name": "stdout",
     "output_type": "stream",
     "text": [
      "PERCENTAGE A:  54.86725663716814\n",
      "PERCENTAGE B:  45.13274336283185\n"
     ]
    }
   ],
   "source": [
    "#TASK 8\n",
    "true_column_clicks = pivot_percentage_clicked[True]\n",
    "# print(true_column_clicks)\n",
    "true_A_clicks = true_column_clicks.loc[0]\n",
    "# print(true_A_clicks)\n",
    "true_B_clicks = true_column_clicks.loc[1]\n",
    "# print(true_B_clicks)\n",
    "\n",
    "percentage_a_cliks = (true_A_clicks / (true_A_clicks + true_B_clicks)) * 100\n",
    "percentage_b_cliks = (true_B_clicks / (true_A_clicks + true_B_clicks)) * 100\n",
    "print('PERCENTAGE A: ', percentage_a_cliks)\n",
    "print('PERCENTAGE B: ', percentage_b_cliks)\n"
   ]
  },
  {
   "cell_type": "code",
   "execution_count": 92,
   "metadata": {},
   "outputs": [
    {
     "name": "stdout",
     "output_type": "stream",
     "text": [
      "                                   user_id utm_source            day  \\\n",
      "5     013b0072-7b72-40e7-b698-98b4d0c9967f   facebook     1 - Monday   \n",
      "28    05d08d6d-62d5-4e28-8f10-107ae2cd03c7   facebook    2 - Tuesday   \n",
      "30    06234d6f-8729-49d3-a39e-6bba740847e3   facebook   6 - Saturday   \n",
      "33    06a8681a-7de2-4053-8462-29df2b1e8aab   facebook     7 - Sunday   \n",
      "44    082ad0da-546b-4c00-b2f8-e21a5113e66a   facebook    2 - Tuesday   \n",
      "...                                    ...        ...            ...   \n",
      "1609  f84f15db-bdaa-4024-8f6d-30a139a65dc9   facebook  3 - Wednesday   \n",
      "1613  f8f8de19-1129-497b-a8fd-1f357bb103a0   facebook   6 - Saturday   \n",
      "1614  f8fb4bc7-b0b0-434f-8910-d9571b097d15   facebook    2 - Tuesday   \n",
      "1642  fce1eb2a-cf8b-4ec4-a2f7-2fe70d23775a   facebook     5 - Friday   \n",
      "1647  fe570a20-448f-40ed-930b-8482b8a7c231   facebook     1 - Monday   \n",
      "\n",
      "     ad_click_timestamp experimental_group  is_click  \n",
      "5                   NaN                  A     False  \n",
      "28                  NaN                  A     False  \n",
      "30                  NaN                  A     False  \n",
      "33                  9:2                  A      True  \n",
      "44                  NaN                  A     False  \n",
      "...                 ...                ...       ...  \n",
      "1609                NaN                  A     False  \n",
      "1613               11:6                  A      True  \n",
      "1614               7:44                  A      True  \n",
      "1642                NaN                  A     False  \n",
      "1647               20:7                  A      True  \n",
      "\n",
      "[254 rows x 6 columns]\n"
     ]
    }
   ],
   "source": [
    "#TASK 9\n",
    "a_clicks = ad_clicks[(ad_clicks.experimental_group == 'A') & (ad_clicks.utm_source =='facebook')]\n",
    "b_clicks = ad_clicks[ad_clicks.experimental_group == 'B']\n",
    "print(a_clicks)\n",
    "# print(b_clicks)\n"
   ]
  },
  {
   "cell_type": "code",
   "execution_count": 86,
   "metadata": {},
   "outputs": [
    {
     "name": "stdout",
     "output_type": "stream",
     "text": [
      "is_click       False  True  percentage_clicks\n",
      "day                                          \n",
      "1 - Monday        70    43               38.0\n",
      "2 - Tuesday       76    43               36.0\n",
      "3 - Wednesday     86    38               31.0\n",
      "4 - Thursday      69    47               41.0\n",
      "5 - Friday        77    51               40.0\n",
      "6 - Saturday      73    45               38.0\n",
      "7 - Sunday        66    43               39.0\n",
      "\n",
      "is_click       False  True  percentage_clicks\n",
      "day                                          \n",
      "1 - Monday        81    32               28.0\n",
      "2 - Tuesday       74    45               38.0\n",
      "3 - Wednesday     89    35               28.0\n",
      "4 - Thursday      87    29               25.0\n",
      "5 - Friday        90    38               30.0\n",
      "6 - Saturday      76    42               36.0\n",
      "7 - Sunday        75    34               31.0\n"
     ]
    }
   ],
   "source": [
    "#TASK 10\n",
    "percentage_users_clicks_day_A = ad_clicks[ad_clicks.experimental_group == 'A'].groupby(['day', 'is_click']).user_id.count().reset_index().pivot(\n",
    "    columns='is_click',\n",
    "    index='day',\n",
    "    values='user_id'\n",
    ")\n",
    "# print(percentage_users_clicks_day_A)\n",
    "\n",
    "percentage_users_clicks_day_A['percentage_clicks'] = round(percentage_users_clicks_day_A[True] / (percentage_users_clicks_day_A[True] +  percentage_users_clicks_day_A[False]), 2) * 100\n",
    "print(percentage_users_clicks_day_A)\n",
    "\n",
    "percentage_users_clicks_day_B = ad_clicks[ad_clicks.experimental_group == 'B'].groupby(['day', 'is_click']).user_id.count().reset_index().pivot(\n",
    "    columns='is_click',\n",
    "    index='day',\n",
    "    values='user_id'\n",
    ")\n",
    "# print(percentage_users_clicks_day_B)\n",
    "print()\n",
    "percentage_users_clicks_day_B['percentage_clicks'] = round(percentage_users_clicks_day_B[True] / (percentage_users_clicks_day_B[True] +  percentage_users_clicks_day_B[False]), 2) * 100\n",
    "print(percentage_users_clicks_day_B)\n",
    "\n",
    "\n"
   ]
  },
  {
   "cell_type": "code",
   "execution_count": null,
   "metadata": {},
   "outputs": [],
   "source": []
  }
 ],
 "metadata": {
  "kernelspec": {
   "display_name": "Python 3",
   "language": "python",
   "name": "python3"
  },
  "language_info": {
   "codemirror_mode": {
    "name": "ipython",
    "version": 3
   },
   "file_extension": ".py",
   "mimetype": "text/x-python",
   "name": "python",
   "nbconvert_exporter": "python",
   "pygments_lexer": "ipython3",
   "version": "3.10.5 (v3.10.5:f377153967, Jun  6 2022, 12:36:10) [Clang 13.0.0 (clang-1300.0.29.30)]"
  },
  "orig_nbformat": 4,
  "vscode": {
   "interpreter": {
    "hash": "aee8b7b246df8f9039afb4144a1f6fd8d2ca17a180786b69acc140d282b71a49"
   }
  }
 },
 "nbformat": 4,
 "nbformat_minor": 2
}
